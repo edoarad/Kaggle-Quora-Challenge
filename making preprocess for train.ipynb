{
 "cells": [
  {
   "cell_type": "code",
   "execution_count": 1,
   "metadata": {
    "collapsed": true
   },
   "outputs": [],
   "source": [
    "import numpy as np\n",
    "import pandas as pd\n",
    "\n",
    "train_filename = \"train.csv\"\n",
    "#test_filename = \"test.csv\"\n",
    "\n",
    "def load_data(fname):\n",
    "    df = pd.DataFrame.from_csv(fname, index_col=None)    \n",
    "    return df    \n"
   ]
  },
  {
   "cell_type": "code",
   "execution_count": 2,
   "metadata": {
    "collapsed": true
   },
   "outputs": [],
   "source": [
    "def contains_weird_digit(x):\n",
    "    for a in x:\n",
    "        if not (str.isalnum(a) or str.isspace(a) or a in '!?.,;-()\\'\":/\\\\$+=#@%&'):\n",
    "            return True\n",
    "    return False"
   ]
  },
  {
   "cell_type": "code",
   "execution_count": 3,
   "metadata": {
    "collapsed": false
   },
   "outputs": [
    {
     "name": "stdout",
     "output_type": "stream",
     "text": [
      "Loading challenge... done.\n"
     ]
    }
   ],
   "source": [
    "print 'Loading challenge...',\n",
    "train = load_data(train_filename)\n",
    "train = train.dropna()\n",
    "print 'done.'"
   ]
  },
  {
   "cell_type": "code",
   "execution_count": 4,
   "metadata": {
    "collapsed": true
   },
   "outputs": [],
   "source": [
    "train.question1 = train.question1.apply(lambda x: x.lower())\n",
    "train.question2 = train.question2.apply(lambda x: x.lower())"
   ]
  },
  {
   "cell_type": "code",
   "execution_count": 5,
   "metadata": {
    "collapsed": true
   },
   "outputs": [],
   "source": [
    "train.loc[train.question1.apply(contains_weird_digit) , \"question1\"] = np.nan\n",
    "train.loc[train.question2.apply(contains_weird_digit) , \"question1\"] = np.nan\n",
    "train.dropna(inplace=True)"
   ]
  },
  {
   "cell_type": "code",
   "execution_count": 7,
   "metadata": {
    "collapsed": false
   },
   "outputs": [],
   "source": [
    "train.to_csv('train_preprocessed.csv')"
   ]
  },
  {
   "cell_type": "code",
   "execution_count": null,
   "metadata": {
    "collapsed": true
   },
   "outputs": [],
   "source": []
  }
 ],
 "metadata": {
  "kernelspec": {
   "display_name": "Python [conda env:py2]",
   "language": "python",
   "name": "conda-env-py2-py"
  },
  "language_info": {
   "codemirror_mode": {
    "name": "ipython",
    "version": 2
   },
   "file_extension": ".py",
   "mimetype": "text/x-python",
   "name": "python",
   "nbconvert_exporter": "python",
   "pygments_lexer": "ipython2",
   "version": "2.7.13"
  }
 },
 "nbformat": 4,
 "nbformat_minor": 2
}
